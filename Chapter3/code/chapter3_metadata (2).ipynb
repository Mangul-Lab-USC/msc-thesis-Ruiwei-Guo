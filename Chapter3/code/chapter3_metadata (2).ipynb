{
  "nbformat": 4,
  "nbformat_minor": 0,
  "metadata": {
    "colab": {
      "name": "chapter3-metadata.ipynb",
      "provenance": [],
      "collapsed_sections": []
    },
    "kernelspec": {
      "name": "python3",
      "display_name": "Python 3"
    },
    "language_info": {
      "name": "python"
    }
  },
  "cells": [
    {
      "cell_type": "markdown",
      "source": [
        "# **Overall completeness of metadata.**"
      ],
      "metadata": {
        "id": "TazGsf1hCaam"
      }
    },
    {
      "cell_type": "code",
      "execution_count": null,
      "metadata": {
        "id": "iSIGOuHdqyhE"
      },
      "outputs": [],
      "source": [
        "import pandas as pd\n",
        "import matplotlib.pyplot as plt\n",
        "import numpy as np\n",
        "import pandas as pd\n",
        "import seaborn as sns\n",
        "import numpy as np\n",
        "from scipy import stats"
      ]
    },
    {
      "cell_type": "code",
      "source": [
        "from google.colab import drive\n",
        "drive.mount \n",
        "data=pd.read_csv('/Metadata_Summary_Table - Overall completeness (1).csv')\n",
        "data=data.dropna()\n",
        "data\n",
        "df = pd.DataFrame(data)\n",
        "df"
      ],
      "metadata": {
        "colab": {
          "base_uri": "https://localhost:8080/",
          "height": 332
        },
        "id": "nqheXkQ9sbv4",
        "outputId": "79914878-32ba-4f57-9c4a-7721905df252"
      },
      "execution_count": null,
      "outputs": [
        {
          "output_type": "execute_result",
          "data": {
            "text/plain": [
              "           Phenotype  Overall\n",
              "0  Disease_Condition    100.0\n",
              "1                Age     89.1\n",
              "2           Organism    100.0\n",
              "3                Sex     89.1\n",
              "4             Tissue     99.3\n",
              "5            Country     62.8\n",
              "6          Ethnicity     33.6\n",
              "7          Mortality     32.7\n",
              "8  Clinical_Severity     48.9"
            ],
            "text/html": [
              "\n",
              "  <div id=\"df-307cb608-ceb1-47b4-9abc-d569ce210df6\">\n",
              "    <div class=\"colab-df-container\">\n",
              "      <div>\n",
              "<style scoped>\n",
              "    .dataframe tbody tr th:only-of-type {\n",
              "        vertical-align: middle;\n",
              "    }\n",
              "\n",
              "    .dataframe tbody tr th {\n",
              "        vertical-align: top;\n",
              "    }\n",
              "\n",
              "    .dataframe thead th {\n",
              "        text-align: right;\n",
              "    }\n",
              "</style>\n",
              "<table border=\"1\" class=\"dataframe\">\n",
              "  <thead>\n",
              "    <tr style=\"text-align: right;\">\n",
              "      <th></th>\n",
              "      <th>Phenotype</th>\n",
              "      <th>Overall</th>\n",
              "    </tr>\n",
              "  </thead>\n",
              "  <tbody>\n",
              "    <tr>\n",
              "      <th>0</th>\n",
              "      <td>Disease_Condition</td>\n",
              "      <td>100.0</td>\n",
              "    </tr>\n",
              "    <tr>\n",
              "      <th>1</th>\n",
              "      <td>Age</td>\n",
              "      <td>89.1</td>\n",
              "    </tr>\n",
              "    <tr>\n",
              "      <th>2</th>\n",
              "      <td>Organism</td>\n",
              "      <td>100.0</td>\n",
              "    </tr>\n",
              "    <tr>\n",
              "      <th>3</th>\n",
              "      <td>Sex</td>\n",
              "      <td>89.1</td>\n",
              "    </tr>\n",
              "    <tr>\n",
              "      <th>4</th>\n",
              "      <td>Tissue</td>\n",
              "      <td>99.3</td>\n",
              "    </tr>\n",
              "    <tr>\n",
              "      <th>5</th>\n",
              "      <td>Country</td>\n",
              "      <td>62.8</td>\n",
              "    </tr>\n",
              "    <tr>\n",
              "      <th>6</th>\n",
              "      <td>Ethnicity</td>\n",
              "      <td>33.6</td>\n",
              "    </tr>\n",
              "    <tr>\n",
              "      <th>7</th>\n",
              "      <td>Mortality</td>\n",
              "      <td>32.7</td>\n",
              "    </tr>\n",
              "    <tr>\n",
              "      <th>8</th>\n",
              "      <td>Clinical_Severity</td>\n",
              "      <td>48.9</td>\n",
              "    </tr>\n",
              "  </tbody>\n",
              "</table>\n",
              "</div>\n",
              "      <button class=\"colab-df-convert\" onclick=\"convertToInteractive('df-307cb608-ceb1-47b4-9abc-d569ce210df6')\"\n",
              "              title=\"Convert this dataframe to an interactive table.\"\n",
              "              style=\"display:none;\">\n",
              "        \n",
              "  <svg xmlns=\"http://www.w3.org/2000/svg\" height=\"24px\"viewBox=\"0 0 24 24\"\n",
              "       width=\"24px\">\n",
              "    <path d=\"M0 0h24v24H0V0z\" fill=\"none\"/>\n",
              "    <path d=\"M18.56 5.44l.94 2.06.94-2.06 2.06-.94-2.06-.94-.94-2.06-.94 2.06-2.06.94zm-11 1L8.5 8.5l.94-2.06 2.06-.94-2.06-.94L8.5 2.5l-.94 2.06-2.06.94zm10 10l.94 2.06.94-2.06 2.06-.94-2.06-.94-.94-2.06-.94 2.06-2.06.94z\"/><path d=\"M17.41 7.96l-1.37-1.37c-.4-.4-.92-.59-1.43-.59-.52 0-1.04.2-1.43.59L10.3 9.45l-7.72 7.72c-.78.78-.78 2.05 0 2.83L4 21.41c.39.39.9.59 1.41.59.51 0 1.02-.2 1.41-.59l7.78-7.78 2.81-2.81c.8-.78.8-2.07 0-2.86zM5.41 20L4 18.59l7.72-7.72 1.47 1.35L5.41 20z\"/>\n",
              "  </svg>\n",
              "      </button>\n",
              "      \n",
              "  <style>\n",
              "    .colab-df-container {\n",
              "      display:flex;\n",
              "      flex-wrap:wrap;\n",
              "      gap: 12px;\n",
              "    }\n",
              "\n",
              "    .colab-df-convert {\n",
              "      background-color: #E8F0FE;\n",
              "      border: none;\n",
              "      border-radius: 50%;\n",
              "      cursor: pointer;\n",
              "      display: none;\n",
              "      fill: #1967D2;\n",
              "      height: 32px;\n",
              "      padding: 0 0 0 0;\n",
              "      width: 32px;\n",
              "    }\n",
              "\n",
              "    .colab-df-convert:hover {\n",
              "      background-color: #E2EBFA;\n",
              "      box-shadow: 0px 1px 2px rgba(60, 64, 67, 0.3), 0px 1px 3px 1px rgba(60, 64, 67, 0.15);\n",
              "      fill: #174EA6;\n",
              "    }\n",
              "\n",
              "    [theme=dark] .colab-df-convert {\n",
              "      background-color: #3B4455;\n",
              "      fill: #D2E3FC;\n",
              "    }\n",
              "\n",
              "    [theme=dark] .colab-df-convert:hover {\n",
              "      background-color: #434B5C;\n",
              "      box-shadow: 0px 1px 3px 1px rgba(0, 0, 0, 0.15);\n",
              "      filter: drop-shadow(0px 1px 2px rgba(0, 0, 0, 0.3));\n",
              "      fill: #FFFFFF;\n",
              "    }\n",
              "  </style>\n",
              "\n",
              "      <script>\n",
              "        const buttonEl =\n",
              "          document.querySelector('#df-307cb608-ceb1-47b4-9abc-d569ce210df6 button.colab-df-convert');\n",
              "        buttonEl.style.display =\n",
              "          google.colab.kernel.accessAllowed ? 'block' : 'none';\n",
              "\n",
              "        async function convertToInteractive(key) {\n",
              "          const element = document.querySelector('#df-307cb608-ceb1-47b4-9abc-d569ce210df6');\n",
              "          const dataTable =\n",
              "            await google.colab.kernel.invokeFunction('convertToInteractive',\n",
              "                                                     [key], {});\n",
              "          if (!dataTable) return;\n",
              "\n",
              "          const docLinkHtml = 'Like what you see? Visit the ' +\n",
              "            '<a target=\"_blank\" href=https://colab.research.google.com/notebooks/data_table.ipynb>data table notebook</a>'\n",
              "            + ' to learn more about interactive tables.';\n",
              "          element.innerHTML = '';\n",
              "          dataTable['output_type'] = 'display_data';\n",
              "          await google.colab.output.renderOutput(dataTable, element);\n",
              "          const docLink = document.createElement('div');\n",
              "          docLink.innerHTML = docLinkHtml;\n",
              "          element.appendChild(docLink);\n",
              "        }\n",
              "      </script>\n",
              "    </div>\n",
              "  </div>\n",
              "  "
            ]
          },
          "metadata": {},
          "execution_count": 76
        }
      ]
    },
    {
      "cell_type": "code",
      "source": [
        "p=sns.barplot(data=df,x='Overall',y='Phenotype',color='orange',ci='sd')\n",
        "p.set_xlabel(\"Metadata completion (%)\", fontsize = 12,color='black')\n",
        "p.set_ylabel(\"Clinical phenotype\", fontsize = 12,color='black')\n",
        "p.set_title(\"Overall completeness of metadata\", fontsize = 12,color='black')\n",
        "p.spines['top'].set_visible(False)\n",
        "p.spines['right'].set_visible(False)"
      ],
      "metadata": {
        "colab": {
          "base_uri": "https://localhost:8080/",
          "height": 299
        },
        "id": "n5e8ttw1A1ro",
        "outputId": "b4017bb4-08ab-4223-d509-fca121a4fa36"
      },
      "execution_count": null,
      "outputs": [
        {
          "output_type": "display_data",
          "data": {
            "text/plain": [
              "<Figure size 432x288 with 1 Axes>"
            ],
            "image/png": "[encoded data removed]"
          },
          "metadata": {
            "needs_background": "light"
          }
        }
      ]
    },
    {
      "cell_type": "markdown",
      "source": [
        "# **The overall completeness of metadata accompanying therapeutic fields.**"
      ],
      "metadata": {
        "id": "22y2zDRHCjoJ"
      }
    },
    {
      "cell_type": "code",
      "source": [
        "data1=pd.read_csv('/Metadata_Summary_Table - Sheet17.csv')\n",
        "df1 = pd.DataFrame(data1)\n",
        "df1"
      ],
      "metadata": {
        "colab": {
          "base_uri": "https://localhost:8080/",
          "height": 1000
        },
        "id": "eAuGi9peF6MO",
        "outputId": "1adbbf20-7c03-46bf-bc5c-6dba83058c1b"
      },
      "execution_count": null,
      "outputs": [
        {
          "output_type": "execute_result",
          "data": {
            "text/plain": [
              "           Phenotypes  Completeness                     Disease\n",
              "0   Disease_condition         100.0                      Sepsis\n",
              "1   Disease_condition         100.0     Cardiovascular diseases\n",
              "2   Disease_condition         100.0      Acute myeloid leukemia\n",
              "3   Disease_condition         100.0                Tuberculosis\n",
              "4   Disease_condition         100.0         Alzheimer's disease\n",
              "5   Disease_condition         100.0  Inflammatory bowel disease\n",
              "6                 Age          93.1                      Sepsis\n",
              "7                 Age          88.6     Cardiovascular diseases\n",
              "8                 Age          80.0      Acute myeloid leukemia\n",
              "9                 Age          77.1                Tuberculosis\n",
              "10                Age          87.5         Alzheimer's disease\n",
              "11                Age          94.7  Inflammatory bowel disease\n",
              "12           Organism         100.0                      Sepsis\n",
              "13           Organism         100.0     Cardiovascular diseases\n",
              "14           Organism         100.0      Acute myeloid leukemia\n",
              "15           Organism         100.0                Tuberculosis\n",
              "16           Organism         100.0         Alzheimer's disease\n",
              "17           Organism         100.0  Inflammatory bowel disease\n",
              "18                Sex          93.1                      Sepsis\n",
              "19                Sex          94.3     Cardiovascular diseases\n",
              "20                Sex          73.3      Acute myeloid leukemia\n",
              "21                Sex          83.9                Tuberculosis\n",
              "22                Sex          87.5         Alzheimer's disease\n",
              "23                Sex          94.7  Inflammatory bowel disease\n",
              "24        Tissue_type         100.0                      Sepsis\n",
              "25        Tissue_type         100.0     Cardiovascular diseases\n",
              "26        Tissue_type          93.3      Acute myeloid leukemia\n",
              "27        Tissue_type         100.0                Tuberculosis\n",
              "28        Tissue_type         100.0         Alzheimer's disease\n",
              "29        Tissue_type         100.0  Inflammatory bowel disease\n",
              "30          Ethnicity          44.8                      Sepsis\n",
              "31          Ethnicity          45.7     Cardiovascular diseases\n",
              "32          Ethnicity          20.0      Acute myeloid leukemia\n",
              "33          Ethnicity          22.6                Tuberculosis\n",
              "34          Ethnicity          37.5         Alzheimer's disease\n",
              "35          Ethnicity          21.1  Inflammatory bowel disease\n",
              "36            Country          89.7                      Sepsis\n",
              "37            Country          28.6     Cardiovascular diseases\n",
              "38            Country          20.0      Acute myeloid leukemia\n",
              "39            Country          96.8                Tuberculosis\n",
              "40            Country          87.5         Alzheimer's disease\n",
              "41            Country          52.6  Inflammatory bowel disease\n",
              "42          Mortality          82.8                      Sepsis\n",
              "43          Mortality          14.3     Cardiovascular diseases\n",
              "44          Mortality          33.3      Acute myeloid leukemia\n",
              "45          Mortality           6.5                Tuberculosis\n",
              "46  Clinical_Severity          72.4                      Sepsis\n",
              "47  Clinical_Severity          34.3     Cardiovascular diseases\n",
              "48  Clinical_Severity          73.3      Acute myeloid leukemia\n",
              "49  Clinical_Severity           6.5                Tuberculosis\n",
              "50  Clinical_Severity          62.5         Alzheimer's disease\n",
              "51  Clinical_Severity          84.2  Inflammatory bowel disease"
            ],
            "text/html": [
              "\n",
              "  <div id=\"df-cdaa2681-e24d-4f65-9274-dce12d646d6f\">\n",
              "    <div class=\"colab-df-container\">\n",
              "      <div>\n",
              "<style scoped>\n",
              "    .dataframe tbody tr th:only-of-type {\n",
              "        vertical-align: middle;\n",
              "    }\n",
              "\n",
              "    .dataframe tbody tr th {\n",
              "        vertical-align: top;\n",
              "    }\n",
              "\n",
              "    .dataframe thead th {\n",
              "        text-align: right;\n",
              "    }\n",
              "</style>\n",
              "<table border=\"1\" class=\"dataframe\">\n",
              "  <thead>\n",
              "    <tr style=\"text-align: right;\">\n",
              "      <th></th>\n",
              "      <th>Phenotypes</th>\n",
              "      <th>Completeness</th>\n",
              "      <th>Disease</th>\n",
              "    </tr>\n",
              "  </thead>\n",
              "  <tbody>\n",
              "    <tr>\n",
              "      <th>0</th>\n",
              "      <td>Disease_condition</td>\n",
              "      <td>100.0</td>\n",
              "      <td>Sepsis</td>\n",
              "    </tr>\n",
              "    <tr>\n",
              "      <th>1</th>\n",
              "      <td>Disease_condition</td>\n",
              "      <td>100.0</td>\n",
              "      <td>Cardiovascular diseases</td>\n",
              "    </tr>\n",
              "    <tr>\n",
              "      <th>2</th>\n",
              "      <td>Disease_condition</td>\n",
              "      <td>100.0</td>\n",
              "      <td>Acute myeloid leukemia</td>\n",
              "    </tr>\n",
              "    <tr>\n",
              "      <th>3</th>\n",
              "      <td>Disease_condition</td>\n",
              "      <td>100.0</td>\n",
              "      <td>Tuberculosis</td>\n",
              "    </tr>\n",
              "    <tr>\n",
              "      <th>4</th>\n",
              "      <td>Disease_condition</td>\n",
              "      <td>100.0</td>\n",
              "      <td>Alzheimer's disease</td>\n",
              "    </tr>\n",
              "    <tr>\n",
              "      <th>5</th>\n",
              "      <td>Disease_condition</td>\n",
              "      <td>100.0</td>\n",
              "      <td>Inflammatory bowel disease</td>\n",
              "    </tr>\n",
              "    <tr>\n",
              "      <th>6</th>\n",
              "      <td>Age</td>\n",
              "      <td>93.1</td>\n",
              "      <td>Sepsis</td>\n",
              "    </tr>\n",
              "    <tr>\n",
              "      <th>7</th>\n",
              "      <td>Age</td>\n",
              "      <td>88.6</td>\n",
              "      <td>Cardiovascular diseases</td>\n",
              "    </tr>\n",
              "    <tr>\n",
              "      <th>8</th>\n",
              "      <td>Age</td>\n",
              "      <td>80.0</td>\n",
              "      <td>Acute myeloid leukemia</td>\n",
              "    </tr>\n",
              "    <tr>\n",
              "      <th>9</th>\n",
              "      <td>Age</td>\n",
              "      <td>77.1</td>\n",
              "      <td>Tuberculosis</td>\n",
              "    </tr>\n",
              "    <tr>\n",
              "      <th>10</th>\n",
              "      <td>Age</td>\n",
              "      <td>87.5</td>\n",
              "      <td>Alzheimer's disease</td>\n",
              "    </tr>\n",
              "    <tr>\n",
              "      <th>11</th>\n",
              "      <td>Age</td>\n",
              "      <td>94.7</td>\n",
              "      <td>Inflammatory bowel disease</td>\n",
              "    </tr>\n",
              "    <tr>\n",
              "      <th>12</th>\n",
              "      <td>Organism</td>\n",
              "      <td>100.0</td>\n",
              "      <td>Sepsis</td>\n",
              "    </tr>\n",
              "    <tr>\n",
              "      <th>13</th>\n",
              "      <td>Organism</td>\n",
              "      <td>100.0</td>\n",
              "      <td>Cardiovascular diseases</td>\n",
              "    </tr>\n",
              "    <tr>\n",
              "      <th>14</th>\n",
              "      <td>Organism</td>\n",
              "      <td>100.0</td>\n",
              "      <td>Acute myeloid leukemia</td>\n",
              "    </tr>\n",
              "    <tr>\n",
              "      <th>15</th>\n",
              "      <td>Organism</td>\n",
              "      <td>100.0</td>\n",
              "      <td>Tuberculosis</td>\n",
              "    </tr>\n",
              "    <tr>\n",
              "      <th>16</th>\n",
              "      <td>Organism</td>\n",
              "      <td>100.0</td>\n",
              "      <td>Alzheimer's disease</td>\n",
              "    </tr>\n",
              "    <tr>\n",
              "      <th>17</th>\n",
              "      <td>Organism</td>\n",
              "      <td>100.0</td>\n",
              "      <td>Inflammatory bowel disease</td>\n",
              "    </tr>\n",
              "    <tr>\n",
              "      <th>18</th>\n",
              "      <td>Sex</td>\n",
              "      <td>93.1</td>\n",
              "      <td>Sepsis</td>\n",
              "    </tr>\n",
              "    <tr>\n",
              "      <th>19</th>\n",
              "      <td>Sex</td>\n",
              "      <td>94.3</td>\n",
              "      <td>Cardiovascular diseases</td>\n",
              "    </tr>\n",
              "    <tr>\n",
              "      <th>20</th>\n",
              "      <td>Sex</td>\n",
              "      <td>73.3</td>\n",
              "      <td>Acute myeloid leukemia</td>\n",
              "    </tr>\n",
              "    <tr>\n",
              "      <th>21</th>\n",
              "      <td>Sex</td>\n",
              "      <td>83.9</td>\n",
              "      <td>Tuberculosis</td>\n",
              "    </tr>\n",
              "    <tr>\n",
              "      <th>22</th>\n",
              "      <td>Sex</td>\n",
              "      <td>87.5</td>\n",
              "      <td>Alzheimer's disease</td>\n",
              "    </tr>\n",
              "    <tr>\n",
              "      <th>23</th>\n",
              "      <td>Sex</td>\n",
              "      <td>94.7</td>\n",
              "      <td>Inflammatory bowel disease</td>\n",
              "    </tr>\n",
              "    <tr>\n",
              "      <th>24</th>\n",
              "      <td>Tissue_type</td>\n",
              "      <td>100.0</td>\n",
              "      <td>Sepsis</td>\n",
              "    </tr>\n",
              "    <tr>\n",
              "      <th>25</th>\n",
              "      <td>Tissue_type</td>\n",
              "      <td>100.0</td>\n",
              "      <td>Cardiovascular diseases</td>\n",
              "    </tr>\n",
              "    <tr>\n",
              "      <th>26</th>\n",
              "      <td>Tissue_type</td>\n",
              "      <td>93.3</td>\n",
              "      <td>Acute myeloid leukemia</td>\n",
              "    </tr>\n",
              "    <tr>\n",
              "      <th>27</th>\n",
              "      <td>Tissue_type</td>\n",
              "      <td>100.0</td>\n",
              "      <td>Tuberculosis</td>\n",
              "    </tr>\n",
              "    <tr>\n",
              "      <th>28</th>\n",
              "      <td>Tissue_type</td>\n",
              "      <td>100.0</td>\n",
              "      <td>Alzheimer's disease</td>\n",
              "    </tr>\n",
              "    <tr>\n",
              "      <th>29</th>\n",
              "      <td>Tissue_type</td>\n",
              "      <td>100.0</td>\n",
              "      <td>Inflammatory bowel disease</td>\n",
              "    </tr>\n",
              "    <tr>\n",
              "      <th>30</th>\n",
              "      <td>Ethnicity</td>\n",
              "      <td>44.8</td>\n",
              "      <td>Sepsis</td>\n",
              "    </tr>\n",
              "    <tr>\n",
              "      <th>31</th>\n",
              "      <td>Ethnicity</td>\n",
              "      <td>45.7</td>\n",
              "      <td>Cardiovascular diseases</td>\n",
              "    </tr>\n",
              "    <tr>\n",
              "      <th>32</th>\n",
              "      <td>Ethnicity</td>\n",
              "      <td>20.0</td>\n",
              "      <td>Acute myeloid leukemia</td>\n",
              "    </tr>\n",
              "    <tr>\n",
              "      <th>33</th>\n",
              "      <td>Ethnicity</td>\n",
              "      <td>22.6</td>\n",
              "      <td>Tuberculosis</td>\n",
              "    </tr>\n",
              "    <tr>\n",
              "      <th>34</th>\n",
              "      <td>Ethnicity</td>\n",
              "      <td>37.5</td>\n",
              "      <td>Alzheimer's disease</td>\n",
              "    </tr>\n",
              "    <tr>\n",
              "      <th>35</th>\n",
              "      <td>Ethnicity</td>\n",
              "      <td>21.1</td>\n",
              "      <td>Inflammatory bowel disease</td>\n",
              "    </tr>\n",
              "    <tr>\n",
              "      <th>36</th>\n",
              "      <td>Country</td>\n",
              "      <td>89.7</td>\n",
              "      <td>Sepsis</td>\n",
              "    </tr>\n",
              "    <tr>\n",
              "      <th>37</th>\n",
              "      <td>Country</td>\n",
              "      <td>28.6</td>\n",
              "      <td>Cardiovascular diseases</td>\n",
              "    </tr>\n",
              "    <tr>\n",
              "      <th>38</th>\n",
              "      <td>Country</td>\n",
              "      <td>20.0</td>\n",
              "      <td>Acute myeloid leukemia</td>\n",
              "    </tr>\n",
              "    <tr>\n",
              "      <th>39</th>\n",
              "      <td>Country</td>\n",
              "      <td>96.8</td>\n",
              "      <td>Tuberculosis</td>\n",
              "    </tr>\n",
              "    <tr>\n",
              "      <th>40</th>\n",
              "      <td>Country</td>\n",
              "      <td>87.5</td>\n",
              "      <td>Alzheimer's disease</td>\n",
              "    </tr>\n",
              "    <tr>\n",
              "      <th>41</th>\n",
              "      <td>Country</td>\n",
              "      <td>52.6</td>\n",
              "      <td>Inflammatory bowel disease</td>\n",
              "    </tr>\n",
              "    <tr>\n",
              "      <th>42</th>\n",
              "      <td>Mortality</td>\n",
              "      <td>82.8</td>\n",
              "      <td>Sepsis</td>\n",
              "    </tr>\n",
              "    <tr>\n",
              "      <th>43</th>\n",
              "      <td>Mortality</td>\n",
              "      <td>14.3</td>\n",
              "      <td>Cardiovascular diseases</td>\n",
              "    </tr>\n",
              "    <tr>\n",
              "      <th>44</th>\n",
              "      <td>Mortality</td>\n",
              "      <td>33.3</td>\n",
              "      <td>Acute myeloid leukemia</td>\n",
              "    </tr>\n",
              "    <tr>\n",
              "      <th>45</th>\n",
              "      <td>Mortality</td>\n",
              "      <td>6.5</td>\n",
              "      <td>Tuberculosis</td>\n",
              "    </tr>\n",
              "    <tr>\n",
              "      <th>46</th>\n",
              "      <td>Clinical_Severity</td>\n",
              "      <td>72.4</td>\n",
              "      <td>Sepsis</td>\n",
              "    </tr>\n",
              "    <tr>\n",
              "      <th>47</th>\n",
              "      <td>Clinical_Severity</td>\n",
              "      <td>34.3</td>\n",
              "      <td>Cardiovascular diseases</td>\n",
              "    </tr>\n",
              "    <tr>\n",
              "      <th>48</th>\n",
              "      <td>Clinical_Severity</td>\n",
              "      <td>73.3</td>\n",
              "      <td>Acute myeloid leukemia</td>\n",
              "    </tr>\n",
              "    <tr>\n",
              "      <th>49</th>\n",
              "      <td>Clinical_Severity</td>\n",
              "      <td>6.5</td>\n",
              "      <td>Tuberculosis</td>\n",
              "    </tr>\n",
              "    <tr>\n",
              "      <th>50</th>\n",
              "      <td>Clinical_Severity</td>\n",
              "      <td>62.5</td>\n",
              "      <td>Alzheimer's disease</td>\n",
              "    </tr>\n",
              "    <tr>\n",
              "      <th>51</th>\n",
              "      <td>Clinical_Severity</td>\n",
              "      <td>84.2</td>\n",
              "      <td>Inflammatory bowel disease</td>\n",
              "    </tr>\n",
              "  </tbody>\n",
              "</table>\n",
              "</div>\n",
              "      <button class=\"colab-df-convert\" onclick=\"convertToInteractive('df-cdaa2681-e24d-4f65-9274-dce12d646d6f')\"\n",
              "              title=\"Convert this dataframe to an interactive table.\"\n",
              "              style=\"display:none;\">\n",
              "        \n",
              "  <svg xmlns=\"http://www.w3.org/2000/svg\" height=\"24px\"viewBox=\"0 0 24 24\"\n",
              "       width=\"24px\">\n",
              "    <path d=\"M0 0h24v24H0V0z\" fill=\"none\"/>\n",
              "    <path d=\"M18.56 5.44l.94 2.06.94-2.06 2.06-.94-2.06-.94-.94-2.06-.94 2.06-2.06.94zm-11 1L8.5 8.5l.94-2.06 2.06-.94-2.06-.94L8.5 2.5l-.94 2.06-2.06.94zm10 10l.94 2.06.94-2.06 2.06-.94-2.06-.94-.94-2.06-.94 2.06-2.06.94z\"/><path d=\"M17.41 7.96l-1.37-1.37c-.4-.4-.92-.59-1.43-.59-.52 0-1.04.2-1.43.59L10.3 9.45l-7.72 7.72c-.78.78-.78 2.05 0 2.83L4 21.41c.39.39.9.59 1.41.59.51 0 1.02-.2 1.41-.59l7.78-7.78 2.81-2.81c.8-.78.8-2.07 0-2.86zM5.41 20L4 18.59l7.72-7.72 1.47 1.35L5.41 20z\"/>\n",
              "  </svg>\n",
              "      </button>\n",
              "      \n",
              "  <style>\n",
              "    .colab-df-container {\n",
              "      display:flex;\n",
              "      flex-wrap:wrap;\n",
              "      gap: 12px;\n",
              "    }\n",
              "\n",
              "    .colab-df-convert {\n",
              "      background-color: #E8F0FE;\n",
              "      border: none;\n",
              "      border-radius: 50%;\n",
              "      cursor: pointer;\n",
              "      display: none;\n",
              "      fill: #1967D2;\n",
              "      height: 32px;\n",
              "      padding: 0 0 0 0;\n",
              "      width: 32px;\n",
              "    }\n",
              "\n",
              "    .colab-df-convert:hover {\n",
              "      background-color: #E2EBFA;\n",
              "      box-shadow: 0px 1px 2px rgba(60, 64, 67, 0.3), 0px 1px 3px 1px rgba(60, 64, 67, 0.15);\n",
              "      fill: #174EA6;\n",
              "    }\n",
              "\n",
              "    [theme=dark] .colab-df-convert {\n",
              "      background-color: #3B4455;\n",
              "      fill: #D2E3FC;\n",
              "    }\n",
              "\n",
              "    [theme=dark] .colab-df-convert:hover {\n",
              "      background-color: #434B5C;\n",
              "      box-shadow: 0px 1px 3px 1px rgba(0, 0, 0, 0.15);\n",
              "      filter: drop-shadow(0px 1px 2px rgba(0, 0, 0, 0.3));\n",
              "      fill: #FFFFFF;\n",
              "    }\n",
              "  </style>\n",
              "\n",
              "      <script>\n",
              "        const buttonEl =\n",
              "          document.querySelector('#df-cdaa2681-e24d-4f65-9274-dce12d646d6f button.colab-df-convert');\n",
              "        buttonEl.style.display =\n",
              "          google.colab.kernel.accessAllowed ? 'block' : 'none';\n",
              "\n",
              "        async function convertToInteractive(key) {\n",
              "          const element = document.querySelector('#df-cdaa2681-e24d-4f65-9274-dce12d646d6f');\n",
              "          const dataTable =\n",
              "            await google.colab.kernel.invokeFunction('convertToInteractive',\n",
              "                                                     [key], {});\n",
              "          if (!dataTable) return;\n",
              "\n",
              "          const docLinkHtml = 'Like what you see? Visit the ' +\n",
              "            '<a target=\"_blank\" href=https://colab.research.google.com/notebooks/data_table.ipynb>data table notebook</a>'\n",
              "            + ' to learn more about interactive tables.';\n",
              "          element.innerHTML = '';\n",
              "          dataTable['output_type'] = 'display_data';\n",
              "          await google.colab.output.renderOutput(dataTable, element);\n",
              "          const docLink = document.createElement('div');\n",
              "          docLink.innerHTML = docLinkHtml;\n",
              "          element.appendChild(docLink);\n",
              "        }\n",
              "      </script>\n",
              "    </div>\n",
              "  </div>\n",
              "  "
            ]
          },
          "metadata": {},
          "execution_count": 78
        }
      ]
    },
    {
      "cell_type": "code",
      "source": [
        "p1=sns.barplot(data=df1,x='Phenotypes',y='Completeness',ci='sd',hue='Disease')\n",
        "plt.legend(bbox_to_anchor=(1.05, 1), loc='upper left', borderaxespad=0)\n",
        "plt.gcf().autofmt_xdate()\n",
        "p1.spines['top'].set_visible(False)\n",
        "p1.spines['right'].set_visible(False)"
      ],
      "metadata": {
        "colab": {
          "base_uri": "https://localhost:8080/",
          "height": 297
        },
        "id": "_ojSbajLb-HV",
        "outputId": "7a3caced-6199-49b3-ae2f-72d628976f8f"
      },
      "execution_count": null,
      "outputs": [
        {
          "output_type": "display_data",
          "data": {
            "text/plain": [
              "<Figure size 432x288 with 1 Axes>"
            ],
            "image/png": "[encoded data removed]"
          },
          "metadata": {
            "needs_background": "light"
          }
        }
      ]
    },
    {
      "cell_type": "markdown",
      "source": [
        "# **Overal metadata completeness.**"
      ],
      "metadata": {
        "id": "V8zjbIWdgxIh"
      }
    },
    {
      "cell_type": "code",
      "source": [
        "data2=pd.read_csv('/Metadata_Summary_Table - Sheet20 (2).csv')\n",
        "df2=pd.DataFrame(data2)\n",
        "df2"
      ],
      "metadata": {
        "colab": {
          "base_uri": "https://localhost:8080/",
          "height": 614
        },
        "id": "DC-Uvb0-g2EI",
        "outputId": "abefcb22-3b94-4a96-e26b-4b8c0c2dc3f9"
      },
      "execution_count": null,
      "outputs": [
        {
          "output_type": "execute_result",
          "data": {
            "text/plain": [
              "            Phenotype  Completeness     Location\n",
              "0   Disease_Condition          99.3  Publication\n",
              "1   Disease_Condition          91.2   Repository\n",
              "2                 Age          83.2  Publication\n",
              "3                 Age          43.8   Repository\n",
              "4            Organism         100.0  Publication\n",
              "5            Organism         100.0   Repository\n",
              "6                 Sex          83.2  Publication\n",
              "7                 Sex          46.7   Repository\n",
              "8              Tissue          97.1  Publication\n",
              "9              Tissue          97.8   Repository\n",
              "10            Country          62.0  Publication\n",
              "11            Country           9.5   Repository\n",
              "12          Ethnicity          29.9  Publication\n",
              "13          Ethnicity          12.4   Repository\n",
              "14          Mortality          31.8  Publication\n",
              "15          Mortality          10.9   Repository\n",
              "16  Clinical_Severity          45.3  Publication\n",
              "17  Clinical_Severity          17.5   Repository"
            ],
            "text/html": [
              "\n",
              "  <div id=\"df-74f9a320-788d-431e-85e5-7a50c5033fed\">\n",
              "    <div class=\"colab-df-container\">\n",
              "      <div>\n",
              "<style scoped>\n",
              "    .dataframe tbody tr th:only-of-type {\n",
              "        vertical-align: middle;\n",
              "    }\n",
              "\n",
              "    .dataframe tbody tr th {\n",
              "        vertical-align: top;\n",
              "    }\n",
              "\n",
              "    .dataframe thead th {\n",
              "        text-align: right;\n",
              "    }\n",
              "</style>\n",
              "<table border=\"1\" class=\"dataframe\">\n",
              "  <thead>\n",
              "    <tr style=\"text-align: right;\">\n",
              "      <th></th>\n",
              "      <th>Phenotype</th>\n",
              "      <th>Completeness</th>\n",
              "      <th>Location</th>\n",
              "    </tr>\n",
              "  </thead>\n",
              "  <tbody>\n",
              "    <tr>\n",
              "      <th>0</th>\n",
              "      <td>Disease_Condition</td>\n",
              "      <td>99.3</td>\n",
              "      <td>Publication</td>\n",
              "    </tr>\n",
              "    <tr>\n",
              "      <th>1</th>\n",
              "      <td>Disease_Condition</td>\n",
              "      <td>91.2</td>\n",
              "      <td>Repository</td>\n",
              "    </tr>\n",
              "    <tr>\n",
              "      <th>2</th>\n",
              "      <td>Age</td>\n",
              "      <td>83.2</td>\n",
              "      <td>Publication</td>\n",
              "    </tr>\n",
              "    <tr>\n",
              "      <th>3</th>\n",
              "      <td>Age</td>\n",
              "      <td>43.8</td>\n",
              "      <td>Repository</td>\n",
              "    </tr>\n",
              "    <tr>\n",
              "      <th>4</th>\n",
              "      <td>Organism</td>\n",
              "      <td>100.0</td>\n",
              "      <td>Publication</td>\n",
              "    </tr>\n",
              "    <tr>\n",
              "      <th>5</th>\n",
              "      <td>Organism</td>\n",
              "      <td>100.0</td>\n",
              "      <td>Repository</td>\n",
              "    </tr>\n",
              "    <tr>\n",
              "      <th>6</th>\n",
              "      <td>Sex</td>\n",
              "      <td>83.2</td>\n",
              "      <td>Publication</td>\n",
              "    </tr>\n",
              "    <tr>\n",
              "      <th>7</th>\n",
              "      <td>Sex</td>\n",
              "      <td>46.7</td>\n",
              "      <td>Repository</td>\n",
              "    </tr>\n",
              "    <tr>\n",
              "      <th>8</th>\n",
              "      <td>Tissue</td>\n",
              "      <td>97.1</td>\n",
              "      <td>Publication</td>\n",
              "    </tr>\n",
              "    <tr>\n",
              "      <th>9</th>\n",
              "      <td>Tissue</td>\n",
              "      <td>97.8</td>\n",
              "      <td>Repository</td>\n",
              "    </tr>\n",
              "    <tr>\n",
              "      <th>10</th>\n",
              "      <td>Country</td>\n",
              "      <td>62.0</td>\n",
              "      <td>Publication</td>\n",
              "    </tr>\n",
              "    <tr>\n",
              "      <th>11</th>\n",
              "      <td>Country</td>\n",
              "      <td>9.5</td>\n",
              "      <td>Repository</td>\n",
              "    </tr>\n",
              "    <tr>\n",
              "      <th>12</th>\n",
              "      <td>Ethnicity</td>\n",
              "      <td>29.9</td>\n",
              "      <td>Publication</td>\n",
              "    </tr>\n",
              "    <tr>\n",
              "      <th>13</th>\n",
              "      <td>Ethnicity</td>\n",
              "      <td>12.4</td>\n",
              "      <td>Repository</td>\n",
              "    </tr>\n",
              "    <tr>\n",
              "      <th>14</th>\n",
              "      <td>Mortality</td>\n",
              "      <td>31.8</td>\n",
              "      <td>Publication</td>\n",
              "    </tr>\n",
              "    <tr>\n",
              "      <th>15</th>\n",
              "      <td>Mortality</td>\n",
              "      <td>10.9</td>\n",
              "      <td>Repository</td>\n",
              "    </tr>\n",
              "    <tr>\n",
              "      <th>16</th>\n",
              "      <td>Clinical_Severity</td>\n",
              "      <td>45.3</td>\n",
              "      <td>Publication</td>\n",
              "    </tr>\n",
              "    <tr>\n",
              "      <th>17</th>\n",
              "      <td>Clinical_Severity</td>\n",
              "      <td>17.5</td>\n",
              "      <td>Repository</td>\n",
              "    </tr>\n",
              "  </tbody>\n",
              "</table>\n",
              "</div>\n",
              "      <button class=\"colab-df-convert\" onclick=\"convertToInteractive('df-74f9a320-788d-431e-85e5-7a50c5033fed')\"\n",
              "              title=\"Convert this dataframe to an interactive table.\"\n",
              "              style=\"display:none;\">\n",
              "        \n",
              "  <svg xmlns=\"http://www.w3.org/2000/svg\" height=\"24px\"viewBox=\"0 0 24 24\"\n",
              "       width=\"24px\">\n",
              "    <path d=\"M0 0h24v24H0V0z\" fill=\"none\"/>\n",
              "    <path d=\"M18.56 5.44l.94 2.06.94-2.06 2.06-.94-2.06-.94-.94-2.06-.94 2.06-2.06.94zm-11 1L8.5 8.5l.94-2.06 2.06-.94-2.06-.94L8.5 2.5l-.94 2.06-2.06.94zm10 10l.94 2.06.94-2.06 2.06-.94-2.06-.94-.94-2.06-.94 2.06-2.06.94z\"/><path d=\"M17.41 7.96l-1.37-1.37c-.4-.4-.92-.59-1.43-.59-.52 0-1.04.2-1.43.59L10.3 9.45l-7.72 7.72c-.78.78-.78 2.05 0 2.83L4 21.41c.39.39.9.59 1.41.59.51 0 1.02-.2 1.41-.59l7.78-7.78 2.81-2.81c.8-.78.8-2.07 0-2.86zM5.41 20L4 18.59l7.72-7.72 1.47 1.35L5.41 20z\"/>\n",
              "  </svg>\n",
              "      </button>\n",
              "      \n",
              "  <style>\n",
              "    .colab-df-container {\n",
              "      display:flex;\n",
              "      flex-wrap:wrap;\n",
              "      gap: 12px;\n",
              "    }\n",
              "\n",
              "    .colab-df-convert {\n",
              "      background-color: #E8F0FE;\n",
              "      border: none;\n",
              "      border-radius: 50%;\n",
              "      cursor: pointer;\n",
              "      display: none;\n",
              "      fill: #1967D2;\n",
              "      height: 32px;\n",
              "      padding: 0 0 0 0;\n",
              "      width: 32px;\n",
              "    }\n",
              "\n",
              "    .colab-df-convert:hover {\n",
              "      background-color: #E2EBFA;\n",
              "      box-shadow: 0px 1px 2px rgba(60, 64, 67, 0.3), 0px 1px 3px 1px rgba(60, 64, 67, 0.15);\n",
              "      fill: #174EA6;\n",
              "    }\n",
              "\n",
              "    [theme=dark] .colab-df-convert {\n",
              "      background-color: #3B4455;\n",
              "      fill: #D2E3FC;\n",
              "    }\n",
              "\n",
              "    [theme=dark] .colab-df-convert:hover {\n",
              "      background-color: #434B5C;\n",
              "      box-shadow: 0px 1px 3px 1px rgba(0, 0, 0, 0.15);\n",
              "      filter: drop-shadow(0px 1px 2px rgba(0, 0, 0, 0.3));\n",
              "      fill: #FFFFFF;\n",
              "    }\n",
              "  </style>\n",
              "\n",
              "      <script>\n",
              "        const buttonEl =\n",
              "          document.querySelector('#df-74f9a320-788d-431e-85e5-7a50c5033fed button.colab-df-convert');\n",
              "        buttonEl.style.display =\n",
              "          google.colab.kernel.accessAllowed ? 'block' : 'none';\n",
              "\n",
              "        async function convertToInteractive(key) {\n",
              "          const element = document.querySelector('#df-74f9a320-788d-431e-85e5-7a50c5033fed');\n",
              "          const dataTable =\n",
              "            await google.colab.kernel.invokeFunction('convertToInteractive',\n",
              "                                                     [key], {});\n",
              "          if (!dataTable) return;\n",
              "\n",
              "          const docLinkHtml = 'Like what you see? Visit the ' +\n",
              "            '<a target=\"_blank\" href=https://colab.research.google.com/notebooks/data_table.ipynb>data table notebook</a>'\n",
              "            + ' to learn more about interactive tables.';\n",
              "          element.innerHTML = '';\n",
              "          dataTable['output_type'] = 'display_data';\n",
              "          await google.colab.output.renderOutput(dataTable, element);\n",
              "          const docLink = document.createElement('div');\n",
              "          docLink.innerHTML = docLinkHtml;\n",
              "          element.appendChild(docLink);\n",
              "        }\n",
              "      </script>\n",
              "    </div>\n",
              "  </div>\n",
              "  "
            ]
          },
          "metadata": {},
          "execution_count": 80
        }
      ]
    },
    {
      "cell_type": "code",
      "source": [
        "p2=sns.barplot(data=df2,x='Completeness',y='Phenotype',hue='Location')\n",
        "plt.legend(bbox_to_anchor=(1.05, 1), loc='upper left', borderaxespad=0)\n",
        "p2.set_xlabel(\"Metadata completion (%)\", fontsize = 12,color='black')\n",
        "p2.set_ylabel(\"Clinical phenotype\", fontsize = 12,color='black')\n",
        "p2.set_title(\"Overall metadata completeness\", fontsize = 12,color='black')\n",
        "p2.spines['top'].set_visible(False)\n",
        "p2.spines['right'].set_visible(False)"
      ],
      "metadata": {
        "colab": {
          "base_uri": "https://localhost:8080/",
          "height": 299
        },
        "id": "IZAjTptul49P",
        "outputId": "622998b8-7b77-4098-ac1f-63127159ef5c"
      },
      "execution_count": null,
      "outputs": [
        {
          "output_type": "display_data",
          "data": {
            "text/plain": [
              "<Figure size 432x288 with 1 Axes>"
            ],
            "image/png": "[encoded data removed]"
          },
          "metadata": {
            "needs_background": "light"
          }
        }
      ]
    },
    {
      "cell_type": "markdown",
      "source": [
        ""
      ],
      "metadata": {
        "id": "i6y2JkDF75-4"
      }
    },
    {
      "cell_type": "markdown",
      "source": [
        "# **completeness of metadata**"
      ],
      "metadata": {
        "id": "ExOOXjkv8JA0"
      }
    },
    {
      "cell_type": "code",
      "source": [
        "from seaborn.relational import lineplot\n",
        "import pandas as pd\n",
        "import matplotlib.pyplot as plt\n",
        "import numpy as np\n",
        "import pandas as pd\n",
        "import seaborn as sns\n",
        "import numpy as np\n",
        "from scipy import stats\n",
        "data=pd.read_csv('//content/Metadata_Summary_Table - Sheet22.csv')\n",
        "data=df\n",
        "sns.set_context(\"paper\",font_scale=1)\n",
        "fig,ax=plt.subplots(figsize=(8,6))\n",
        "p3=sns.boxplot(x='Resource',y='Percentage',data=df,width=.2,whis=1,fliersize=0,zorder=5,palette=\"Set3\")\n",
        "p3=sns.stripplot(x='Resource',y='Percentage',data=df,jitter=False,linewidth=1,alpha=1,palette=\"Set3\")\n",
        "p3.spines['top'].set_visible(False)\n",
        "p3.spines['right'].set_visible(False)\n",
        "plt.title('Completness of metadata')"
      ],
      "metadata": {
        "colab": {
          "base_uri": "https://localhost:8080/",
          "height": 420
        },
        "id": "LU3Zle-58Nds",
        "outputId": "dadfb19e-2215-4962-adee-8364129fe2a6"
      },
      "execution_count": 70,
      "outputs": [
        {
          "output_type": "execute_result",
          "data": {
            "text/plain": [
              "Text(0.5, 1.0, 'Completness of metadata')"
            ]
          },
          "metadata": {},
          "execution_count": 70
        },
        {
          "output_type": "display_data",
          "data": {
            "text/plain": [
              "<Figure size 576x432 with 1 Axes>"
            ],
            "image/png": "[encoded data removed]"
          },
          "metadata": {
            "needs_background": "light"
          }
        }
      ]
    },
    {
      "cell_type": "code",
      "source": [
        "[df.iloc[:,0],df.iloc[:,1]],"
      ],
      "metadata": {
        "id": "8TXRBFdk8Wy0"
      },
      "execution_count": null,
      "outputs": []
    },
    {
      "cell_type": "markdown",
      "source": [
        "# **completeness of metadata across 9 phenotypes**"
      ],
      "metadata": {
        "id": "jxJ3cFN18N74"
      }
    },
    {
      "cell_type": "code",
      "source": [
        "data_sepsis=pd.read_csv('/Metadata_Summary_Table - Sepsis.csv')\n",
        "p_sepsis=sns.barplot(data=data_sepsis,x='Completeness',y='Phenotype',hue='Location')\n",
        "plt.legend(bbox_to_anchor=(1.05, 1), loc='upper left', borderaxespad=0)\n",
        "p_sepsis.set_xlabel(\"Metadata completion (%)\", fontsize = 12,color='black')\n",
        "p_sepsis.set_title(\"Sepsis\", fontsize = 12,color='black')\n",
        "p_sepsis.spines['top'].set_visible(False)\n",
        "p_sepsis.spines['right'].set_visible(False)"
      ],
      "metadata": {
        "colab": {
          "base_uri": "https://localhost:8080/",
          "height": 299
        },
        "id": "MMXUIopC8VYJ",
        "outputId": "3fc301c3-dc35-43e9-ec71-ee9ccdfc5e06"
      },
      "execution_count": null,
      "outputs": [
        {
          "output_type": "display_data",
          "data": {
            "text/plain": [
              "<Figure size 432x288 with 1 Axes>"
            ],
            "image/png": "[encoded data removed]"
          },
          "metadata": {
            "needs_background": "light"
          }
        }
      ]
    },
    {
      "cell_type": "code",
      "source": [
        "data_AD=pd.read_csv('/Metadata_Summary_Table - AD.csv')\n",
        "p_AD=sns.barplot(data=data_AD,x='Completeness',y='Phenotype',hue='Location')\n",
        "plt.legend(bbox_to_anchor=(1.05, 1), loc='upper left', borderaxespad=0)\n",
        "p_AD.set_xlabel(\"Metadata completion (%)\", fontsize = 12,color='black')\n",
        "p_AD.set_title(\"Alzheimer's Disease\", fontsize = 12,color='black')\n",
        "p_AD.spines['top'].set_visible(False)\n",
        "p_AD.spines['right'].set_visible(False)"
      ],
      "metadata": {
        "colab": {
          "base_uri": "https://localhost:8080/",
          "height": 299
        },
        "id": "gJCHbatv8XdM",
        "outputId": "921fbf3f-cf50-450c-f937-f0c32c720969"
      },
      "execution_count": null,
      "outputs": [
        {
          "output_type": "display_data",
          "data": {
            "text/plain": [
              "<Figure size 432x288 with 1 Axes>"
            ],
            "image/png": "[encoded data removed]"
          },
          "metadata": {
            "needs_background": "light"
          }
        }
      ]
    },
    {
      "cell_type": "code",
      "source": [
        "data_AML=pd.read_csv('//Metadata_Summary_Table - AML.csv')\n",
        "p_AML=sns.barplot(data=data_AML,x='Completeness',y='Phenotype',hue='Location')\n",
        "plt.legend(bbox_to_anchor=(1.05, 1), loc='upper left', borderaxespad=0)\n",
        "p_AML.set_xlabel(\"Metadata completion (%)\", fontsize = 12,color='black')\n",
        "p_AML.set_title(\"Acute Myeloid Leukemia\", fontsize = 12,color='black')\n",
        "p_AML.spines['top'].set_visible(False)\n",
        "p_AML.spines['right'].set_visible(False)"
      ],
      "metadata": {
        "colab": {
          "base_uri": "https://localhost:8080/",
          "height": 299
        },
        "id": "mPBHEohtK3Ff",
        "outputId": "9395ef4d-781d-44d7-c830-3c89dd9e59b8"
      },
      "execution_count": null,
      "outputs": [
        {
          "output_type": "display_data",
          "data": {
            "text/plain": [
              "<Figure size 432x288 with 1 Axes>"
            ],
            "image/png": "[encoded data removed]"
          },
          "metadata": {
            "needs_background": "light"
          }
        }
      ]
    },
    {
      "cell_type": "code",
      "source": [
        "data_TB=pd.read_csv('/Metadata_Summary_Table - TB.csv')\n",
        "p_TB=sns.barplot(data=data_TB,x='Completeness',y='Phenotype',hue='Location')\n",
        "plt.legend(bbox_to_anchor=(1.05, 1), loc='upper left', borderaxespad=0)\n",
        "p_TB.set_xlabel(\"Metadata completion (%)\", fontsize = 12,color='black')\n",
        "p_TB.set_title(\"Tuberculosis\", fontsize = 12,color='black')\n",
        "p_TB.spines['top'].set_visible(False)\n",
        "p_TB.spines['right'].set_visible(False)"
      ],
      "metadata": {
        "colab": {
          "base_uri": "https://localhost:8080/",
          "height": 299
        },
        "id": "I1Df78mfK3o0",
        "outputId": "90078502-c274-4c1c-b2be-381be8e854cc"
      },
      "execution_count": null,
      "outputs": [
        {
          "output_type": "display_data",
          "data": {
            "text/plain": [
              "<Figure size 432x288 with 1 Axes>"
            ],
            "image/png": "[encoded data removed]"
          },
          "metadata": {
            "needs_background": "light"
          }
        }
      ]
    },
    {
      "cell_type": "code",
      "source": [
        "data_IBD=pd.read_csv('/Metadata_Summary_Table - IBD.csv')\n",
        "p_IBD=sns.barplot(data=data_TB,x='Completeness',y='Phenotype',hue='Location')\n",
        "plt.legend(bbox_to_anchor=(1.05, 1), loc='upper left', borderaxespad=0)\n",
        "p_IBD.set_xlabel(\"Metadata completion (%)\", fontsize = 12,color='black')\n",
        "p_IBD.set_title(\"Inflammatory Bowel Disease\", fontsize = 12,color='black')\n",
        "p_IBD.spines['top'].set_visible(False)\n",
        "p_IBD.spines['right'].set_visible(False)"
      ],
      "metadata": {
        "colab": {
          "base_uri": "https://localhost:8080/",
          "height": 299
        },
        "id": "5ZZpbmRnK37n",
        "outputId": "85994176-107b-41f5-ddc3-75729df327a0"
      },
      "execution_count": null,
      "outputs": [
        {
          "output_type": "display_data",
          "data": {
            "text/plain": [
              "<Figure size 432x288 with 1 Axes>"
            ],
            "image/png": "[encoded data removed]"
          },
          "metadata": {
            "needs_background": "light"
          }
        }
      ]
    }
  ]
}